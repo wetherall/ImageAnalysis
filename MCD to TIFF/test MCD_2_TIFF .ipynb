{
 "cells": [
  {
   "cell_type": "markdown",
   "id": "8a65d021-e7a8-4d4e-bfde-39be9cd0a09d",
   "metadata": {},
   "source": [
    "This code is from the Boden Miller group and takes a zip of IMC output files (MCD+txt) and creates an analysis folder which contains multichannel TIFFs. References to ilastik have beebn removed. See IMCrun2 folder for earlier versions with ilastik output code."
   ]
  },
  {
   "cell_type": "code",
   "execution_count": null,
   "id": "f95e8a81",
   "metadata": {},
   "outputs": [],
   "source": [
    "\n",
    "\n",
    "from imctools.converters import ome2analysis\n",
    "from imctools.converters import ome2histocat\n",
    "from imctools.converters import mcdfolder2imcfolder\n",
    "from imctools.converters import exportacquisitioncsv\n",
    "\n"
   ]
  },
  {
   "cell_type": "code",
   "execution_count": null,
   "id": "0e1c2ac3",
   "metadata": {},
   "outputs": [],
   "source": [
    "## This will output the directory you are in amoungst other things. The first output is what you should use in the 4th cell for 'folders_path_inputs'.\n",
    "import sys\n",
    "print(sys.path)\n",
    "print(sys.executable)\n"
   ]
  },
  {
   "cell_type": "code",
   "execution_count": null,
   "id": "df09a215",
   "metadata": {},
   "outputs": [],
   "source": [
    "\n",
    "\n",
    "import os\n",
    "import pathlib\n",
    "import shutil\n",
    "import re\n",
    "\n"
   ]
  },
  {
   "cell_type": "markdown",
   "id": "7b783b38-a743-4477-8b1f-ddba39c55bc3",
   "metadata": {},
   "source": [
    "The below window is where you set the directory location for your input zip. You need a panel CSV (see example layout of panel csv) too. Note the double backslashes.\n",
    "\n",
    "Once you have entered the correct file locations in the box below, everythign else can just be run."
   ]
  },
  {
   "cell_type": "code",
   "execution_count": null,
   "id": "ae185795",
   "metadata": {},
   "outputs": [],
   "source": [
    "# the input_data_folders_path_inputs with the zipped acquisition files for the analysis\n",
    "folders_path_inputs = ['C:\\\\Users\\\\nbw33\\\\OneDrive - Newcastle University\\\\IMC\\\\IMCtest'] ## Set this\n",
    "\n",
    "# part that all considered files need to have in common (no need to change this)\n",
    "input_file_regexp = '.*.zip'\n",
    "\n",
    "# output for OME tiffs\n",
    "folder_path_base = 'C:\\\\Users\\\\nbw33\\\\OneDrive - Newcastle University\\\\IMC\\\\IMCtest\\\\analysis' ## Set this (it will create this output folder if new)\n",
    "\n",
    "\n",
    "# pannel\n",
    "file_path_csv_panel = 'C:\\\\Users\\\\nbw33\\\\OneDrive - Newcastle University\\\\IMC\\\\IMCtest\\\\Paneltest.csv'  ## Set this\n",
    "csv_panel_metal = 'Metal Tag'\n",
    "csv_panel_full = 'full'"
   ]
  },
  {
   "cell_type": "code",
   "execution_count": null,
   "id": "20d84801",
   "metadata": {},
   "outputs": [],
   "source": [
    "folder_path_base = pathlib.Path(folder_path_base)\n",
    "folders_path_inputs = [pathlib.Path(f) for f in folders_path_inputs]\n",
    "# parameters for resizing the images for ilastik\n",
    "\n",
    "folder_path_analysis = folder_path_base / 'tiffs'\n",
    "folder_path_ome= folder_path_base / 'ometiff'\n",
    "folder_path_cp = folder_path_base / 'cpout'\n",
    "folder_path_cp_input = folder_path_base / 'cpinp'\n",
    "\n",
    "\n",
    "# Other output\n",
    "file_path_cp_csv = folder_path_cp / 'panel.csv'\n",
    "file_path_full_channels_csv = folder_path_cp_input / 'full_channelmeta.csv'\n",
    "file_path_prob_channels_csv = folder_path_cp_input / 'probab_channelmeta_manual.csv'\n",
    "\n",
    "suffix_full = '_full'\n",
    "suffix_ilastik_scale = '_s2'\n",
    "suffix_mask = '_mask.tiff'\n",
    "suffix_probablities = '_Probabilities'\n",
    "\n",
    "\n",
    "failed_images = list()"
   ]
  },
  {
   "cell_type": "code",
   "execution_count": null,
   "id": "d5da7d35",
   "metadata": {},
   "outputs": [],
   "source": [
    "\n",
    "\n",
    "for fol in [folder_path_base, folder_path_analysis,\n",
    "            folder_path_ome, folder_path_cp,\n",
    "           folder_path_cp_input]:\n",
    "    if not fol.exists():\n",
    "        fol.mkdir(parents=True)\n",
    "\n"
   ]
  },
  {
   "cell_type": "code",
   "execution_count": null,
   "id": "be7f6f8e",
   "metadata": {},
   "outputs": [],
   "source": [
    "\n",
    "\n",
    "%%time\n",
    "failed_images = list()\n",
    "re_fn = re.compile(input_file_regexp)\n",
    "\n",
    "for fol in folders_path_inputs:\n",
    "    for fn in fol.glob('*'):\n",
    "        if re_fn.match(fn.name):\n",
    "            mcdfolder2imcfolder.mcdfolder_to_imcfolder(fn, output_folder=folder_path_ome,\n",
    "                                                       create_zip=False)\n",
    "\n"
   ]
  },
  {
   "cell_type": "code",
   "execution_count": null,
   "id": "1a125890",
   "metadata": {},
   "outputs": [],
   "source": [
    "exportacquisitioncsv.export_acquisition_csv(folder_path_ome, output_folder=folder_path_cp_input)"
   ]
  },
  {
   "cell_type": "code",
   "execution_count": null,
   "id": "5a827b7e",
   "metadata": {},
   "outputs": [],
   "source": [
    "shutil.copy(file_path_csv_panel, file_path_cp_csv)"
   ]
  },
  {
   "cell_type": "code",
   "execution_count": null,
   "id": "9489859a",
   "metadata": {},
   "outputs": [],
   "source": [
    "\n"
   ]
  },
  {
   "cell_type": "code",
   "execution_count": null,
   "id": "2a5c3402",
   "metadata": {},
   "outputs": [],
   "source": [
    "list_analysis_stacks =[\n",
    "    (csv_panel_full, suffix_full, 0)]"
   ]
  },
  {
   "cell_type": "code",
   "execution_count": null,
   "id": "3829aad7",
   "metadata": {},
   "outputs": [],
   "source": [
    "%%time\n",
    "ome2analysis.omefolder_to_analysisfolder(folder_path_ome, folder_path_analysis, panel_csv_file=file_path_csv_panel,\n",
    "                                         analysis_stacks=(list_analysis_stacks), metalcolumn=csv_panel_metal)"
   ]
  },
  {
   "cell_type": "code",
   "execution_count": null,
   "id": "95441eed",
   "metadata": {},
   "outputs": [],
   "source": []
  },
  {
   "cell_type": "code",
   "execution_count": null,
   "id": "3a65bdc0",
   "metadata": {},
   "outputs": [],
   "source": []
  },
  {
   "cell_type": "code",
   "execution_count": null,
   "id": "e457274d",
   "metadata": {},
   "outputs": [],
   "source": []
  }
 ],
 "metadata": {
  "kernelspec": {
   "display_name": "Python 3 (ipykernel)",
   "language": "python",
   "name": "python3"
  },
  "language_info": {
   "codemirror_mode": {
    "name": "ipython",
    "version": 3
   },
   "file_extension": ".py",
   "mimetype": "text/x-python",
   "name": "python",
   "nbconvert_exporter": "python",
   "pygments_lexer": "ipython3",
   "version": "3.10.2"
  }
 },
 "nbformat": 4,
 "nbformat_minor": 5
}
