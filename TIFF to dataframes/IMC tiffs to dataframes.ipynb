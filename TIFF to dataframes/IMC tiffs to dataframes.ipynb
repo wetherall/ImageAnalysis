{
 "cells": [
  {
   "cell_type": "markdown",
   "id": "09cbb033-0c26-433b-930b-5072537d52e0",
   "metadata": {},
   "source": [
    "This code takes a multichannel Tiff generated from the MCD files by the MCD_2_TIFF notebook file, and applies the multichannel mask generated in imageJ using the mask gen macro. As the mask file has a channel per egg, dataframes can be generated with per egg data. There is code for a wide format dataframe (one row per egg, useful for analysis in excel or python), and in long format (one row per datapoint, suitable for plotting graphs in python). There is a line after each dataframe is generated to save it as a CSV file.\n",
    "\n",
    "You should be in an environment that has numpy, matplotlib, python image library (PIL), and seaborn (if you want to plot data using the code after dataframe generation)."
   ]
  },
  {
   "cell_type": "code",
   "execution_count": null,
   "id": "24d525b6-82b0-4052-a3a0-8da1edd75663",
   "metadata": {},
   "outputs": [],
   "source": [
    "\n",
    "#Import packages needed to process data\n",
    "\n",
    "import numpy as np\n",
    "import matplotlib.pyplot as plt\n",
    "%matplotlib inline\n",
    "\n",
    "from PIL import Image\n",
    "import pandas as pd\n",
    "\n",
    "import seaborn as sns"
   ]
  },
  {
   "cell_type": "markdown",
   "id": "e969e338-2372-4aac-b732-8d307e07494f",
   "metadata": {},
   "source": [
    "The next couple boxes are a quick check to make sure the images are looking like we expect (optional). They will display the first 4 masks and first 4 eggs using matplotlib. The read tiff function is needed to open a multichannel tiff, iterate through the channels, and create a numpy array of arrays. There is no inbuilt functionality for this. "
   ]
  },
  {
   "cell_type": "code",
   "execution_count": null,
   "id": "bcec40c0-531a-435a-aa16-3f03bb14dbe5",
   "metadata": {},
   "outputs": [],
   "source": []
  },
  {
   "cell_type": "code",
   "execution_count": null,
   "id": "df30aa9a-04cd-4d4a-9eaa-85238e20571e",
   "metadata": {},
   "outputs": [],
   "source": []
  },
  {
   "cell_type": "code",
   "execution_count": null,
   "id": "c1e1c829-53a4-44bf-811c-f4bf73a151e6",
   "metadata": {},
   "outputs": [],
   "source": []
  },
  {
   "cell_type": "code",
   "execution_count": null,
   "id": "dbd02cac-510a-46b7-80a8-c98189c212fe",
   "metadata": {},
   "outputs": [],
   "source": [
    "#Read the list of protein names from the Panel CSV file. Check your panel file is correct for this experiment#\n",
    "\n",
    "metals = list(pd.read_csv('Paneltest.csv')['name'])\n",
    "\n",
    "metals"
   ]
  },
  {
   "cell_type": "code",
   "execution_count": null,
   "id": "128992d4-259c-4f0b-bc49-532425530ca6",
   "metadata": {},
   "outputs": [],
   "source": [
    "##optional, just to check you're getting egg images correctly\n",
    "\n",
    "#The metals list is your panel in order. t is the max threshhold for each metal used for displaying the data in the plots. \n",
    "#In this cell the purpose of the code is a quick check of the data so will always just look at the first channel.\n",
    "\n",
    "\n",
    "def read_tiff(path):\n",
    "    \"\"\"\n",
    "    path - Path to the multipage-tiff file\n",
    "    \"\"\"\n",
    "    img = Image.open(path)\n",
    "    images = []\n",
    "    for i in range(img.n_frames):\n",
    "        img.seek(i)\n",
    "        images.append(np.array(img))\n",
    "    return np.array(images)\n",
    "\n",
    "multimask = read_tiff(\"ProphaseMask.tif\") ################### change this to your first roi's individual eggs mask ###############\n",
    "multi = read_tiff(\"Prophase.tiff\") ############################  change this to your first roi ###################################\n",
    "\n",
    "fig, ax = plt.subplots(ncols=4, nrows=2, figsize=(12,8)) # This is how you initiate a multiplot\n",
    "\n",
    "for i in range(0,4): ## This for loop iterates through the first 4 eggs, plotting the image and histogram below it.\n",
    "    \n",
    "    mask_arr = np.array(multimask[i]) # Choose the mask \n",
    "    mask_df = pd.DataFrame(mask_arr)  # Turn the mask into a dataframe for easy mask application to the actual image\n",
    "    \n",
    "    df=pd.DataFrame(multi[0])##   only using target 0 (gH2AX) in this example. Turns image array into dataframe for mask application\n",
    "    tightdf=df[mask_df == 255].dropna(how='all').dropna(how='all',axis=1) # Applies the mask, and drops all rows/columns that are empty\n",
    "\n",
    "    ax[0,i].imshow(tightdf,interpolation='nearest') ## Plots image. add .fillna(0) to have dark background (zeros). vmax sets bightness ceiling\n",
    "    ax[0,i].set_title(\"Cell \"+str(i))\n",
    "\n",
    "    x = df[mask_df == 255].to_numpy().flatten() # Applies mask again, converting pixels oputside of egg to NaN, then to a numpy array and flattens to list\n",
    "    x2= x[~np.isnan(x)] # removes NaN values from flattened array, leaving a list of values from inside the egg\n",
    "\n",
    "    ax[1,i].hist(x2,bins=15) # plots a histogram of the list of values inside the egg generated above\n",
    "    ax[1,i].set_title('Histo of masked cell '+str(i))\n",
    "    ax[1,i].set_yscale('log')\n",
    "    ax[1,i].set_ylim(0.5, 1000000)\n",
    "    #ax[1,i].set_xlim(0, 100) # You might want to remove or edit this if looks like histogram's x axis scale is off"
   ]
  },
  {
   "cell_type": "markdown",
   "id": "e75743a4-ff52-4049-be44-331a3761f213",
   "metadata": {},
   "source": [
    "If you ran the above two cells, you should see your first four cells and their corresponding histograms"
   ]
  },
  {
   "cell_type": "code",
   "execution_count": null,
   "id": "e5331e21-5150-41c8-a58d-b30f94e12b94",
   "metadata": {},
   "outputs": [],
   "source": []
  },
  {
   "cell_type": "code",
   "execution_count": null,
   "id": "cc557b2a-376c-4aaa-9530-fa6e7fc66cc8",
   "metadata": {},
   "outputs": [],
   "source": []
  },
  {
   "cell_type": "code",
   "execution_count": null,
   "id": "dac5eafa-afd0-4bb8-bf0b-e1b8f02a0121",
   "metadata": {},
   "outputs": [],
   "source": []
  },
  {
   "cell_type": "markdown",
   "id": "bdf6a54c-8ed2-4baf-944e-4f4ac1121d6e",
   "metadata": {},
   "source": [
    "Below is the code to generate the dataframes from the images. The code is written in this notebook redundantly, so other than importing the packages at the start, these cells can be copy and pasted and ran independently of anything previous to this. "
   ]
  },
  {
   "cell_type": "code",
   "execution_count": null,
   "id": "be844a27-3fda-413a-b08a-1afa08ccf737",
   "metadata": {},
   "outputs": [],
   "source": [
    "%%time\n",
    "  ########## Putting the total signal data into a wide format dataframe #########\n",
    "  ##---------------------------------------------------------------------------##\n",
    "\n",
    "\n",
    "## This code expects a tiff (or tiffs) of timepoint(s) named in the format [timepoint.tiff] eg \"5.5hr.tiff\",\n",
    "## and a mask .tif for each timepoint named as above but including the word Mask at the end, eg. \"5.5hrMask.tif\" NB .tif due to imageJ output\n",
    "\n",
    "\n",
    "##IMPORTANT!!!! SET TIMEPOINTS HERE, add timepoints as strings separated by commas (python list)\n",
    "times = [\"Prophase\", '2hr', '3.5hr', '5hr', \"6.5hr\", '7.5hr','NoGVBD']\n",
    "\n",
    "metals = list(pd.read_csv('Paneltest.csv')['name']) #set your panel file here (the .csv part, don't edit the actaul word 'name' in this code)\n",
    "\n",
    "\n",
    "##Funtion to read multichannel tiff in as numpy array\n",
    "##############\n",
    "def read_tiff(path):\n",
    "    \"\"\"\n",
    "    path - Path to the multipage-tiff file\n",
    "    \"\"\"\n",
    "    img = Image.open(path)\n",
    "    images = []\n",
    "    for i in range(img.n_frames):\n",
    "        img.seek(i)\n",
    "        images.append(np.array(img))\n",
    "    return np.array(images)\n",
    "###############\n",
    "\n",
    "\n",
    "\n",
    "##Create the empty wide format data frame. CUSTOMISE METALS AS APPROPRIATE #####  ########  ################\n",
    "ColumnsWide = 'IntraEggId Timepoint'.split()\n",
    "ColumnsWide = ColumnsWide + metals\n",
    "widedf = pd.DataFrame(columns=ColumnsWide)\n",
    "\n",
    "\n",
    "\n",
    "for timepoint in times:\n",
    "    ##Read Egg image in and masks in.  ######## THIS ASSUMES YOU HAVE FOLLOWED THE FILE NAME STRUCTURE OUTLINED AT TOP ###########\n",
    "    multi = read_tiff(timepoint+\".tiff\") \n",
    "    multimask = read_tiff(timepoint+\"Mask.tif\")\n",
    "    EggCount = multimask.shape[0] ##How many channels are in the mask, ie number of cells are we going to be iterating through?\n",
    "\n",
    "    \n",
    "\n",
    "    ##Populate rows with Egg data\n",
    "    for x in range(EggCount):\n",
    "        NewRow = [] ## Empty list that will become new row\n",
    "        NewRow.append(x) ## First column is EggID\n",
    "        NewRow.append(timepoint) ## Second column is egg timepoint\n",
    "        EggMask = multimask[x] ## Focuses on the mask with the right egg in it\n",
    "    \n",
    "        for metal in range(len(metals)):\n",
    "            metaldf=pd.DataFrame(multi[metal]) ##Focuses on one metal channel at a time, turning np array into DataFrame so it can be masked with another DF\n",
    "            lineararray = metaldf[EggMask == 255].to_numpy().flatten() ##Applies mask and flattens data to a 1D array\n",
    "            linearnoNaN = lineararray[~np.isnan(lineararray)] ##Removes NaN values that were placed in area outside of mask by above line\n",
    "            NewRow.append(sum(linearnoNaN))  ## Adds the sum of that metal's signal to the list which will become the new DF row      \n",
    "    \n",
    "\n",
    "        widedf.loc[len(widedf.index)] = NewRow ## Adds the 'NewRow' list of data generated above to the DF as a new row\n",
    "    \n",
    "widedf"
   ]
  },
  {
   "cell_type": "code",
   "execution_count": null,
   "id": "be4c0371-0ef7-4aac-a5e5-8f2ff9195bf2",
   "metadata": {},
   "outputs": [],
   "source": [
    "##uncomment and run this to save the dataframe as a csv, calling it whatever you want\n",
    "\n",
    "#widedf.to_csv('IMC_Wide_Dataframe.csv') "
   ]
  },
  {
   "cell_type": "code",
   "execution_count": null,
   "id": "af5a8b5b",
   "metadata": {},
   "outputs": [],
   "source": [
    "##uncomment and run this to open the dataframe from the .csv if you have done that previously, make sure the name is correct\n",
    "\n",
    "#widedf = pd.read_csv('IMC_Wide_Dataframe.csv')  "
   ]
  },
  {
   "cell_type": "code",
   "execution_count": null,
   "id": "49c4b980-fef6-4d39-bbd7-81c981fdd1f9",
   "metadata": {},
   "outputs": [],
   "source": [
    "%%time\n",
    "  ########## Putting the total signal data into a long format dataframe #########\n",
    "  ##---------------------------------------------------------------------------##\n",
    "\n",
    "## This code expects a tiff (or tiffs) of timepoint(s) named in the format [timepoint.tiff] eg \"5.5hr.tiff\",\n",
    "## and a mask .tif for each timepoint named as above but including the word mask at the end, eg. \"5.5hrMask.tif\" NB .tif due to imageJ output.\n",
    "\n",
    "##Check the imported packages at the top\n",
    "\n",
    "\n",
    "##IMPORTANT!!!! SET TIMEPOINTs HERE, add timepoints as strings separated by commas (python list)\n",
    "times = [\"Prophase\", '2hr', '3.5hr', '5hr', \"6.5hr\", '7.5hr']\n",
    "\n",
    "metals = list(pd.read_csv('Paneltest.csv')['name'])\n",
    "\n",
    "##Funtion to read multichannel tiff in as numpy array\n",
    "##############\n",
    "def read_tiff(path):\n",
    "    \"\"\"\n",
    "    path - Path to the multipage-tiff file\n",
    "    \"\"\"\n",
    "    img = Image.open(path)\n",
    "    images = []\n",
    "    for i in range(img.n_frames):\n",
    "        img.seek(i)\n",
    "        images.append(np.array(img))\n",
    "    return np.array(images)\n",
    "###############\n",
    "\n",
    "\n",
    "\n",
    "\n",
    "##Create the empty long format data frame. Creates a new line per datapoint\n",
    "Columnslong = 'IntraEggId Timepoint Target Total_Signal'.split()\n",
    "longdf = pd.DataFrame(columns=Columnslong)\n",
    "\n",
    "for timepoint in times:\n",
    "    ##Read Egg image in and masks in\n",
    "    multi = read_tiff(timepoint+\".tiff\") \n",
    "    multimask = read_tiff(timepoint+\"Mask.tif\")\n",
    "    EggCount = multimask.shape[0] ##How many channels are in the mask, ie eggs are we going to be iterating through?\n",
    "\n",
    "    \n",
    "\n",
    "    ##Populate rows with Egg data\n",
    "    for x in range(EggCount):\n",
    "        EggMask = multimask[x] ## Focuses on the mask with the right egg in it\n",
    "    \n",
    "        for metal in range(len(metals)):\n",
    "            NewRow = [] ## Empty list that will become new row\n",
    "            NewRow.append(x) ## First column is EggID\n",
    "            NewRow.append(timepoint) ## Second column is egg timepoint\n",
    "            NewRow.append(metals[metal]) ## Third column is protein\n",
    "            \n",
    "            metaldf=pd.DataFrame(multi[metal]) ##Focuses on one metal channel at a time, turning np array into DataFrame so it can be masked with another DF\n",
    "            lineararray = metaldf[EggMask == 255].to_numpy().flatten() ##Applies mask and flattens data to a 1D array\n",
    "            linearnoNaN = lineararray[~np.isnan(lineararray)] ##Removes NaN values that were placed in area outside of mask by above line\n",
    "            NewRow.append(sum(linearnoNaN))  ## Adds the sum of that metal's signal to the list which will become the new DF row      \n",
    "            \n",
    "            longdf.loc[len(longdf.index)] = NewRow ## Adds the 'NewRow' list of data generated above to the DF as a new row\n",
    "\n",
    "        \n",
    "    \n",
    "longdf"
   ]
  },
  {
   "cell_type": "code",
   "execution_count": null,
   "id": "bf143989-7b4d-4c6b-8e71-f0e4701aa84a",
   "metadata": {},
   "outputs": [],
   "source": [
    "##uncomment and run this to save the dataframe as a csv, calling it whatever you want\n",
    "#longdf.to_csv('IMC_Long_Dataframe.csv')"
   ]
  },
  {
   "cell_type": "markdown",
   "id": "a39a480f-844d-4143-929b-26b22f9b5db2",
   "metadata": {},
   "source": [
    "\n",
    "\n",
    "This is the end of the code necessary to generate the dataframes and save them as CSV files. In the code below the data (from the long format dataframe) is plotted using seaborn.\n"
   ]
  },
  {
   "cell_type": "code",
   "execution_count": null,
   "id": "105c3c8a",
   "metadata": {},
   "outputs": [],
   "source": [
    "##uncomment and run this to open the dataframe from the .csv if you have done that previously, make sure the name is correct\n",
    "#longdf = pd.read_csv('IMC_Long_Dataframe.csv')"
   ]
  },
  {
   "cell_type": "code",
   "execution_count": null,
   "id": "aeded03a-0692-44eb-9f3d-c1105431f175",
   "metadata": {},
   "outputs": [],
   "source": [
    "## This generates a boxplot, excluding the 2 DNA channels as they are not quantitative data (and probably didn't work anyway).\n",
    "\n",
    "##If one channel is overpowering, such as tubulin, you can use something like longdf2 instead of longdf. (Or exclude any channel you want)\n",
    "#longdf2 = longdf[(longdf[\"Target\"] != \"Tubulin\")]\n",
    "\n",
    "##Exclude multiple channels usig the below format\n",
    "#longdf3 = longdf[(longdf[\"Target\"] != \"Tubulin\") & (longdf[\"Target\"] != \"PhosphoH3\")]\n",
    "\n",
    "\n",
    "\n",
    "sns.set(rc={'figure.figsize':(18,10)})\n",
    "sns.set(font_scale=1.4)\n",
    "sns.set_style(\"ticks\")\n",
    "#sns.set_style('white')\n",
    "\n",
    "ax4=sns.boxplot(x='Target', y='Total_Signal', hue='Timepoint', data=longdf) #replace longdf with uncommented longdf2/3 if you want to plot that instead\n",
    "ax4.set(xlabel='',\n",
    "       ylabel='Total Signal',\n",
    "       title='Total Signal')\n",
    "sns.despine(bottom=True,trim = True)\n",
    "\n",
    "#plt.savefig(\"Whole Egg Signal Boxplot.png\", dpi=600)"
   ]
  },
  {
   "cell_type": "code",
   "execution_count": null,
   "id": "bbf0feea-a314-4c6b-bf24-de5b8404d710",
   "metadata": {},
   "outputs": [],
   "source": []
  },
  {
   "cell_type": "code",
   "execution_count": null,
   "id": "456158d3-67c2-415a-b69c-5f287dac4a94",
   "metadata": {},
   "outputs": [],
   "source": []
  },
  {
   "cell_type": "code",
   "execution_count": null,
   "id": "c6726328-848e-4f2f-a68d-e8a240c324d3",
   "metadata": {},
   "outputs": [],
   "source": []
  },
  {
   "cell_type": "code",
   "execution_count": null,
   "id": "34b6e1e9-18c8-4a1a-af4d-4801548f9ddd",
   "metadata": {},
   "outputs": [],
   "source": []
  },
  {
   "cell_type": "code",
   "execution_count": null,
   "id": "274ae36c-818a-49c4-bb8d-b8440331fc91",
   "metadata": {},
   "outputs": [],
   "source": []
  },
  {
   "cell_type": "code",
   "execution_count": null,
   "id": "29111e8c-b535-4c1a-b337-51c1c595a5d7",
   "metadata": {},
   "outputs": [],
   "source": []
  },
  {
   "cell_type": "code",
   "execution_count": null,
   "id": "2fc90956-84dc-41c1-b46f-4c4dff793ad8",
   "metadata": {},
   "outputs": [],
   "source": []
  },
  {
   "cell_type": "code",
   "execution_count": null,
   "id": "35c39ce8",
   "metadata": {},
   "outputs": [],
   "source": []
  },
  {
   "cell_type": "markdown",
   "id": "790c132d-72a9-4a76-8155-8e8b96e77c51",
   "metadata": {},
   "source": [
    "\n",
    "\n",
    "\n",
    "\n"
   ]
  },
  {
   "cell_type": "code",
   "execution_count": null,
   "id": "0516e97b-0efc-4747-a242-babdf09ed69a",
   "metadata": {},
   "outputs": [],
   "source": []
  }
 ],
 "metadata": {
  "kernelspec": {
   "display_name": "Python 3 (ipykernel)",
   "language": "python",
   "name": "python3"
  },
  "language_info": {
   "codemirror_mode": {
    "name": "ipython",
    "version": 3
   },
   "file_extension": ".py",
   "mimetype": "text/x-python",
   "name": "python",
   "nbconvert_exporter": "python",
   "pygments_lexer": "ipython3",
   "version": "3.9.7"
  }
 },
 "nbformat": 4,
 "nbformat_minor": 5
}
